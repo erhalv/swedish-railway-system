{
 "cells": [
  {
   "cell_type": "code",
   "execution_count": null,
   "metadata": {},
   "outputs": [],
   "source": [
    "import geopandas as gpd \n",
    "import pandas as pd\n",
    "import matplotlib.pyplot as plt\n",
    "import numpy as np\n",
    "import networkx as nx"
   ]
  },
  {
   "cell_type": "code",
   "execution_count": null,
   "metadata": {},
   "outputs": [],
   "source": [
    "# load the data\n",
    "dataset = gpd.read_file('./data.gpkg')\n",
    "print('dataset size: ', dataset.shape[0])\n",
    "print('dataset columns: ', dataset.columns.values)"
   ]
  },
  {
   "cell_type": "code",
   "execution_count": null,
   "metadata": {},
   "outputs": [],
   "source": [
    "dataset.head()"
   ]
  },
  {
   "cell_type": "code",
   "execution_count": null,
   "metadata": {},
   "outputs": [],
   "source": [
    "df = dataset[['PlSignFr', 'PlSignTi']]\n",
    "df"
   ]
  },
  {
   "cell_type": "code",
   "execution_count": null,
   "metadata": {},
   "outputs": [],
   "source": [
    "df = pd.concat([df, pd.DataFrame(data=df[['PlSignTi', 'PlSignFr']].values, columns=['PlSignFr', 'PlSignTi'])])\n",
    "df"
   ]
  },
  {
   "cell_type": "code",
   "execution_count": null,
   "metadata": {},
   "outputs": [],
   "source": [
    "adj_matrix = pd.crosstab(df.PlSignFr, df.PlSignTi)\n",
    "adj_matrix"
   ]
  },
  {
   "cell_type": "code",
   "execution_count": null,
   "metadata": {},
   "outputs": [],
   "source": [
    "adj_matrix_numpy = adj_matrix.to_numpy()\n",
    "\n",
    "n = 1\n",
    "result = np.linalg.matrix_power(adj_matrix_numpy , n)\n",
    "print(\"grannmatrisen upphöjt till\", n, \"är:\")\n",
    "print(result)\n",
    "\n",
    "# Räkna antalet icke-noll element i varje rad\n",
    "non_zero_counts = np.count_nonzero(result, axis=1)\n",
    "\n",
    "# Hämta indexen för de 10 raderna med flest icke-noll element\n",
    "top_10_indices = np.argsort(non_zero_counts)[::-1][:10]\n",
    "\n",
    "print(\"Top 10 rader med flest icke-noll element är:\")\n",
    "for index in top_10_indices:\n",
    "    print(\"Rad\", adj_matrix.columns[index], \":\", result[index])\n",
    "    print(\"Antal icke-noll element:\", non_zero_counts[index])"
   ]
  }
 ],
 "metadata": {
  "kernelspec": {
   "display_name": "Python 3",
   "language": "python",
   "name": "python3"
  },
  "language_info": {
   "codemirror_mode": {
    "name": "ipython",
    "version": 3
   },
   "file_extension": ".py",
   "mimetype": "text/x-python",
   "name": "python",
   "nbconvert_exporter": "python",
   "pygments_lexer": "ipython3",
   "version": "3.12.0"
  },
  "orig_nbformat": 4
 },
 "nbformat": 4,
 "nbformat_minor": 2
}
